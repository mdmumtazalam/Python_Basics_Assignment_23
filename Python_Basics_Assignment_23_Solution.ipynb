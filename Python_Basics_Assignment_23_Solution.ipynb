{
  "cells": [
    {
      "cell_type": "markdown",
      "id": "abbc94da",
      "metadata": {
        "id": "abbc94da"
      },
      "source": [
        "# Python_Basics_Assignment_23 Solution :-\n",
        "SUBMITTED BY: MD MUMTAZ ALAM"
      ]
    },
    {
      "cell_type": "markdown",
      "id": "6cf7a1d0",
      "metadata": {
        "id": "6cf7a1d0"
      },
      "source": [
        "## 1. What is the result of the code, and why?"
      ]
    },
    {
      "cell_type": "raw",
      "id": "f6526e7c",
      "metadata": {
        "id": "f6526e7c"
      },
      "source": [
        ">>> def func(a, b=6, c=8):\n",
        "print(a, b, c)\n",
        ">>> func(1, 2)"
      ]
    },
    {
      "cell_type": "markdown",
      "id": "7faa2c45",
      "metadata": {
        "id": "7faa2c45"
      },
      "source": [
        "#### Ans: \n",
        "The result of the above code is 1 2 8. It is because the function uses the default value of c i.e 8 which is provided at the time of declaration. We can see this below:"
      ]
    },
    {
      "cell_type": "code",
      "execution_count": null,
      "id": "875212ad",
      "metadata": {
        "id": "875212ad",
        "outputId": "98b77940-e637-47c7-b9ae-5fac8283d775"
      },
      "outputs": [
        {
          "name": "stdout",
          "output_type": "stream",
          "text": [
            "1 2 8\n"
          ]
        }
      ],
      "source": [
        "def func(a,b=6,c=8):\n",
        "    print(a,b,c)\n",
        "func(1,2)"
      ]
    },
    {
      "cell_type": "markdown",
      "id": "a4d9dae9",
      "metadata": {
        "id": "a4d9dae9"
      },
      "source": [
        "## 2. What is the result of this code, and why?"
      ]
    },
    {
      "cell_type": "raw",
      "id": "49034867",
      "metadata": {
        "id": "49034867"
      },
      "source": [
        ">>> def func(a, b, c=5):\n",
        "print(a, b, c)\n",
        ">>> func(1, c=3, b=2)"
      ]
    },
    {
      "cell_type": "markdown",
      "id": "41c39be3",
      "metadata": {
        "id": "41c39be3"
      },
      "source": [
        "#### Ans: \n",
        "\n",
        "The result of the above code is 1 2 3. It is because the function will use default values only when a value for a argument is not provided and if the argument name is mentioned while doing a function call, the order of arguments is also ignored by the python interpreter"
      ]
    },
    {
      "cell_type": "code",
      "execution_count": null,
      "id": "4879bee0",
      "metadata": {
        "id": "4879bee0",
        "outputId": "b2d19a85-6a5e-406d-9a15-f7c752c1ef08"
      },
      "outputs": [
        {
          "name": "stdout",
          "output_type": "stream",
          "text": [
            "1 2 3\n"
          ]
        }
      ],
      "source": [
        "def func(a,b,c=5):\n",
        "    print(a,b,c)\n",
        "func(1,c=3,b=2)"
      ]
    },
    {
      "cell_type": "markdown",
      "id": "2febc54c",
      "metadata": {
        "id": "2febc54c"
      },
      "source": [
        "## 3. How about this code: what is its result, and why?"
      ]
    },
    {
      "cell_type": "raw",
      "id": "a78258bf",
      "metadata": {
        "id": "a78258bf"
      },
      "source": [
        ">>> def func(a, *pargs):\n",
        "print(a, pargs)\n",
        ">>> func(1, 2, 3)"
      ]
    },
    {
      "cell_type": "markdown",
      "id": "2709e3c1",
      "metadata": {
        "id": "2709e3c1"
      },
      "source": [
        "#### Ans: \n",
        "The result of the code is 1 (2,3). *pargs stands for variable length arguments. This format is used when we are not sure about the number of arguments to be passed to a function. All the values under this argument will be stored in a tuple."
      ]
    },
    {
      "cell_type": "code",
      "execution_count": null,
      "id": "910cec2b",
      "metadata": {
        "id": "910cec2b",
        "outputId": "cb275cfd-a587-4640-ba35-8b123b047583"
      },
      "outputs": [
        {
          "name": "stdout",
          "output_type": "stream",
          "text": [
            "1 (2, 3)\n"
          ]
        }
      ],
      "source": [
        "def func(a, *pargs):\n",
        "    print(a,pargs)\n",
        "func(1,2,3)"
      ]
    },
    {
      "cell_type": "markdown",
      "id": "a5ca6343",
      "metadata": {
        "id": "a5ca6343"
      },
      "source": [
        "## 4. What does this code print, and why?"
      ]
    },
    {
      "cell_type": "raw",
      "id": "10a07a63",
      "metadata": {
        "id": "10a07a63"
      },
      "source": [
        ">>> def func(a, **kargs):\n",
        "print(a, kargs)\n",
        ">>> func(a=1, c=3, b=2)"
      ]
    },
    {
      "cell_type": "markdown",
      "id": "063caeda",
      "metadata": {
        "id": "063caeda"
      },
      "source": [
        "#### Ans: \n",
        "The result of the above code is 1 {'c': 3, 'b': 2}. **args stands for variable length keyword arguments. This format is used when we want pass key value pairs as input to a function. All these key value pairs will be stored in a dictionary"
      ]
    },
    {
      "cell_type": "code",
      "execution_count": null,
      "id": "ff3f0e46",
      "metadata": {
        "id": "ff3f0e46",
        "outputId": "1cd6344d-ce4b-4014-f373-53519453514e"
      },
      "outputs": [
        {
          "name": "stdout",
          "output_type": "stream",
          "text": [
            "1 {'c': 3, 'b': 2}\n"
          ]
        }
      ],
      "source": [
        "def func(a,**kargs):\n",
        "    print(a,kargs)\n",
        "func(a=1,c=3,b=2)"
      ]
    },
    {
      "cell_type": "markdown",
      "id": "0d6cb560",
      "metadata": {
        "id": "0d6cb560"
      },
      "source": [
        "## 5. What gets printed by this, and explain?"
      ]
    },
    {
      "cell_type": "raw",
      "id": "86e64217",
      "metadata": {
        "id": "86e64217"
      },
      "source": [
        ">>> def func(a, b, c=8, d=5): print(a, b, c, d)\n",
        ">>> func(1, *(5, 6))"
      ]
    },
    {
      "cell_type": "markdown",
      "id": "1bf4de3a",
      "metadata": {
        "id": "1bf4de3a"
      },
      "source": [
        "#### Ans: \n",
        "The output of the above is 1 5 6 5. The reason for this function not throwing an error is because, this function expects 4 arguments. The value for a is provided explicitly whereas for arguments b and c, the function will expand *(5,6) and consider the value of b as 5 and value of c as 6. Since the default value of d is provided in function declaration, d value will be 5. However it is recommended to use the feature of positional arguments at the end."
      ]
    },
    {
      "cell_type": "code",
      "execution_count": null,
      "id": "8c4be71e",
      "metadata": {
        "id": "8c4be71e",
        "outputId": "eb466430-f3d0-465c-aff7-eccc0def8a6f"
      },
      "outputs": [
        {
          "name": "stdout",
          "output_type": "stream",
          "text": [
            "1 5 6 5\n"
          ]
        }
      ],
      "source": [
        "def func(a,b,c=8,d=5):\n",
        "    print(a,b,c,d)\n",
        "func(1,*(5,6))"
      ]
    },
    {
      "cell_type": "markdown",
      "id": "5ed87e6b",
      "metadata": {
        "id": "5ed87e6b"
      },
      "source": [
        "## 6. what is the result of this, and explain?"
      ]
    },
    {
      "cell_type": "raw",
      "id": "a094f859",
      "metadata": {
        "id": "a094f859"
      },
      "source": [
        ">>> def func(a, b, c): a = 2; b[0] = 'x'; c['a'] = 'y'\n",
        ">>> l=1; m=[1]; n={'a':0}\n",
        ">>> func(l, m, n)\n",
        ">>> l, m, n"
      ]
    },
    {
      "cell_type": "markdown",
      "id": "f7efccda",
      "metadata": {
        "id": "f7efccda"
      },
      "source": [
        "#### Ans: \n",
        "\n",
        "The output of above code is 1, ['x'], {'a': 'y'}.\n",
        "\n",
        "1) Even though Python gives importance to indentation, it provides a facility to declare an entire function in one single line where statements in a function body are sepereated by ;\n",
        "\n",
        "2) When l,m,n are provided as inputs to the function, it modifies the values of l,m,n and sets the value of l=2 ,m=['x'] and n={'a':'y'}"
      ]
    },
    {
      "cell_type": "code",
      "execution_count": null,
      "id": "b18ab86f",
      "metadata": {
        "id": "b18ab86f",
        "outputId": "f618a907-3f0a-417d-92a3-37be4e638106"
      },
      "outputs": [
        {
          "data": {
            "text/plain": [
              "(1, ['x'], {'a': 'y'})"
            ]
          },
          "execution_count": 6,
          "metadata": {},
          "output_type": "execute_result"
        }
      ],
      "source": [
        "def func(a, b, c): a = 2; b[0] = 'x'; c['a'] = 'y'\n",
        "l=1; m=[1]; n={'a':0}\n",
        "func(l, m, n)\n",
        "l,m,n"
      ]
    },
    {
      "cell_type": "markdown",
      "id": "d17a66d0",
      "metadata": {
        "id": "d17a66d0"
      },
      "source": [
        "# Thank You"
      ]
    }
  ],
  "metadata": {
    "kernelspec": {
      "display_name": "Python 3 (ipykernel)",
      "language": "python",
      "name": "python3"
    },
    "language_info": {
      "codemirror_mode": {
        "name": "ipython",
        "version": 3
      },
      "file_extension": ".py",
      "mimetype": "text/x-python",
      "name": "python",
      "nbconvert_exporter": "python",
      "pygments_lexer": "ipython3",
      "version": "3.9.7"
    },
    "colab": {
      "provenance": []
    }
  },
  "nbformat": 4,
  "nbformat_minor": 5
}